{
 "cells": [
  {
   "cell_type": "code",
   "execution_count": 102,
   "metadata": {
    "collapsed": true,
    "pycharm": {
     "is_executing": false
    }
   },
   "outputs": [],
   "source": [
    "import matplotlib\n",
    "import math\n",
    "from scipy.stats import probplot as qqplot \n",
    "matplotlib.rcParams['text.usetex'] = True  # Allows to use latex in labels\n",
    "from scipy.stats import norm \n",
    "import numpy as np\n",
    "import pandas\n",
    "import matplotlib.pyplot as plt\n",
    "from scipy.stats import f_oneway as ANOVA\n",
    "from scipy.stats import f as F\n"
   ]
  },
  {
   "cell_type": "markdown",
   "source": [
    "1)\n",
    "\n",
    "H_0: Regardless of the variations, \n",
    "the conversion rate to download the app will stay the same.\n",
    "\n",
    "H_a: The new version will have a larger conversion rate.\n",
    "\n",
    "Use $\\alpha=0.05$ significance level (0.05 decision rule)\n",
    "\n",
    "\\begin{equation*}\n",
    "P(\\mbox{ reject } H_0 | H_0 \\mbox{ is true })\n",
    "= P\\left(\\frac{n_A}{N_A} - \\frac{n_B}{N_B} \\neq 0 | p_A - p_B=0 \\right)\n",
    "= P(Z \\leq -z_{\\alpha/2} | p_A=p_B) + P(Z \\geq z_{\\alpha/2} | p_A=p_B)\n",
    "\\end{equation*}"
   ],
   "metadata": {
    "collapsed": false,
    "pycharm": {
     "name": "#%% md\n",
     "is_executing": false
    }
   }
  },
  {
   "cell_type": "markdown",
   "source": [
    "\\begin{equation*}\n",
    "P(\\mbox{ reject } H_0 | H_0 \\mbox{ is true })\n",
    "= P\\left(\\frac{1,250}{12,500} - \\frac{1,400}{12,500} \\neq 0 | 0.1 - 0.112 \\right)\n",
    "= P(Z \\leq -z_{\\alpha/2} | p_A=p_B) + P(Z \\geq z_{\\alpha/2} | p_A=p_B)\n",
    "\\end{equation*}"
   ],
   "metadata": {
    "collapsed": false,
    "pycharm": {
     "name": "#%% md\n"
    }
   }
  },
  {
   "cell_type": "code",
   "execution_count": 103,
   "outputs": [],
   "source": [
    "y_bar_A = 1250 / 12500\n",
    "sigma_A = math.sqrt(y_bar_A * (1 - y_bar_A) / 12500)\n",
    "\n",
    "y_bar_B = 1400/ 12500\n",
    "sigma_B = math.sqrt(y_bar_B * (1 - y_bar_B) / 12500)\n",
    "\n",
    "\n",
    "z = (y_bar_A - y_bar_B) / math.sqrt(sigma_A**2 + sigma_B**2)\n",
    "    "
   ],
   "metadata": {
    "collapsed": false,
    "pycharm": {
     "name": "#%% \n",
     "is_executing": false
    }
   }
  },
  {
   "cell_type": "markdown",
   "source": [
    "Since alpha is .05 our rejection region is 1.96"
   ],
   "metadata": {
    "collapsed": false,
    "pycharm": {
     "name": "#%% md\n"
    }
   }
  },
  {
   "cell_type": "code",
   "execution_count": 104,
   "outputs": [
    {
     "name": "stdout",
     "text": [
      "Z score is: -3.0823508478805492\n",
      "p-value is: 0.0020537262167849065\n"
     ],
     "output_type": "stream"
    }
   ],
   "source": [
    "print(\"Z score is: \" + str(z))\n",
    "p_value = 2 * norm.cdf(z, loc=0, scale=1)\n",
    "\n",
    "print(\"p-value is: \" + str(p_value))"
   ],
   "metadata": {
    "collapsed": false,
    "pycharm": {
     "name": "#%%\n",
     "is_executing": false
    }
   }
  },
  {
   "cell_type": "markdown",
   "source": [
    "So we see that our null hypothesis is seen to be false, \n",
    "and proving our alternate hypothesis"
   ],
   "metadata": {
    "collapsed": false,
    "pycharm": {
     "name": "#%% md\n"
    }
   }
  },
  {
   "cell_type": "markdown",
   "source": [
    "2)"
   ],
   "metadata": {
    "collapsed": false,
    "pycharm": {
     "name": "#%% md\n"
    }
   }
  },
  {
   "cell_type": "code",
   "execution_count": 105,
   "outputs": [],
   "source": [
    "nova_pizza = [12.6,12,11.8,11.9,13,12.5,14]\n",
    "pomodoro_pizza = [10,10.2,10,12,14,13,12]\n",
    "volturno = [10.1,13,13.4,12.9,8.9,10.7,13.6]\n",
    "\n",
    "F_value, p_value = ANOVA(nova_pizza, pomodoro_pizza, volturno)"
   ],
   "metadata": {
    "collapsed": false,
    "pycharm": {
     "name": "#%%\n",
     "is_executing": false
    }
   }
  },
  {
   "cell_type": "code",
   "source": [
    "print('The F-statistic value is:',F_value)\n",
    "print('The p-value is:',p_value)"
   ],
   "metadata": {
    "collapsed": false,
    "pycharm": {
     "name": "#%%\n",
     "is_executing": false
    }
   },
   "execution_count": 106,
   "outputs": [
    {
     "name": "stdout",
     "text": [
      "The F-statistic value is: 0.7837545906243251\n",
      "The p-value is: 0.4716638911457141\n"
     ],
     "output_type": "stream"
    }
   ]
  },
  {
   "cell_type": "markdown",
   "source": [
    "H_0: all the companies have the same mean response time.\n",
    "H_a: different companies have different mean response times."
   ],
   "metadata": {
    "collapsed": false,
    "pycharm": {
     "name": "#%% md\n"
    }
   }
  },
  {
   "cell_type": "code",
   "execution_count": 107,
   "outputs": [
    {
     "data": {
      "text/plain": "[<matplotlib.lines.Line2D at 0x1255d5320>]"
     },
     "metadata": {},
     "output_type": "execute_result",
     "execution_count": 107
    },
    {
     "data": {
      "text/plain": "<Figure size 432x288 with 1 Axes>",
      "image/png": "[encoded data removed]"
     },
     "metadata": {
      "needs_background": "light"
     },
     "output_type": "display_data"
    }
   ],
   "source": [
    "# plot of the F-distribution with df from previous problem in red\n",
    "# value of the F-statistic from previous problem in blue\n",
    "fig, ax = plt.subplots(1, 1)\n",
    "dfn, dfd = 3, 20\n",
    "x = np.linspace(F.ppf(0.01, dfn, dfd),\n",
    "                    F.ppf(0.999, dfn, dfd), 100)\n",
    "\n",
    "ax.plot(x, F.pdf(x, dfn, dfd),\n",
    "                    'r-', lw=1, alpha=0.6, label='F pdf')\n",
    "\n",
    "ax.plot([F_value,F_value], [-0.01,0.02],\n",
    "                    'b-', lw=2, alpha=0.6)"
   ],
   "metadata": {
    "collapsed": false,
    "pycharm": {
     "name": "#%%\n",
     "is_executing": false
    }
   }
  },
  {
   "cell_type": "code",
   "execution_count": 108,
   "outputs": [
    {
     "data": {
      "text/plain": "0.516952251456472"
     },
     "metadata": {},
     "output_type": "execute_result",
     "execution_count": 108
    }
   ],
   "source": [
    "# p-value calculated from the F-distribution\n",
    "p_value = 1 - F.cdf(F_value, dfn, dfd)\n",
    "p_value"
   ],
   "metadata": {
    "collapsed": false,
    "pycharm": {
     "name": "#%%\n",
     "is_executing": false
    }
   }
  },
  {
   "cell_type": "code",
   "execution_count": 109,
   "outputs": [
    {
     "data": {
      "text/plain": "(1.1111111111111112, 0.8162127084336458)"
     },
     "metadata": {},
     "output_type": "execute_result",
     "execution_count": 109
    }
   ],
   "source": [
    "# mean (expected value) and median of the F-distribution\n",
    "mean = F.mean(dfn, dfd), F.median(dfn, dfd)\n",
    "mean"
   ],
   "metadata": {
    "collapsed": false,
    "pycharm": {
     "name": "#%%\n",
     "is_executing": false
    }
   }
  },
  {
   "cell_type": "code",
   "execution_count": 110,
   "outputs": [
    {
     "data": {
      "text/plain": "0.8162127084336458"
     },
     "metadata": {},
     "output_type": "execute_result",
     "execution_count": 110
    }
   ],
   "source": [
    "median = F.median(dfn, dfd)\n",
    "median"
   ],
   "metadata": {
    "collapsed": false,
    "pycharm": {
     "name": "#%%\n",
     "is_executing": false
    }
   }
  },
  {
   "cell_type": "code",
   "execution_count": 111,
   "outputs": [],
   "source": [
    "rows = ['Nova Pizza', 'Pomodoro Pizza', 'Volturno']\n",
    "df = pandas.DataFrame([nova_pizza, pomodoro_pizza, volturno], index=rows)"
   ],
   "metadata": {
    "collapsed": false,
    "pycharm": {
     "name": "#%%\n",
     "is_executing": false
    }
   }
  },
  {
   "cell_type": "code",
   "execution_count": 112,
   "outputs": [
    {
     "data": {
      "text/plain": "                   0     1     2     3     4     5     6\nNova Pizza      12.6  12.0  11.8  11.9  13.0  12.5  14.0\nPomodoro Pizza  10.0  10.2  10.0  12.0  14.0  13.0  12.0\nVolturno        10.1  13.0  13.4  12.9   8.9  10.7  13.6",
      "text/html": "<div>\n<style scoped>\n    .dataframe tbody tr th:only-of-type {\n        vertical-align: middle;\n    }\n\n    .dataframe tbody tr th {\n        vertical-align: top;\n    }\n\n    .dataframe thead th {\n        text-align: right;\n    }\n</style>\n<table border=\"1\" class=\"dataframe\">\n  <thead>\n    <tr style=\"text-align: right;\">\n      <th></th>\n      <th>0</th>\n      <th>1</th>\n      <th>2</th>\n      <th>3</th>\n      <th>4</th>\n      <th>5</th>\n      <th>6</th>\n    </tr>\n  </thead>\n  <tbody>\n    <tr>\n      <th>Nova Pizza</th>\n      <td>12.6</td>\n      <td>12.0</td>\n      <td>11.8</td>\n      <td>11.9</td>\n      <td>13.0</td>\n      <td>12.5</td>\n      <td>14.0</td>\n    </tr>\n    <tr>\n      <th>Pomodoro Pizza</th>\n      <td>10.0</td>\n      <td>10.2</td>\n      <td>10.0</td>\n      <td>12.0</td>\n      <td>14.0</td>\n      <td>13.0</td>\n      <td>12.0</td>\n    </tr>\n    <tr>\n      <th>Volturno</th>\n      <td>10.1</td>\n      <td>13.0</td>\n      <td>13.4</td>\n      <td>12.9</td>\n      <td>8.9</td>\n      <td>10.7</td>\n      <td>13.6</td>\n    </tr>\n  </tbody>\n</table>\n</div>"
     },
     "metadata": {},
     "output_type": "execute_result",
     "execution_count": 112
    }
   ],
   "source": [
    "df"
   ],
   "metadata": {
    "collapsed": false,
    "pycharm": {
     "name": "#%%\n",
     "is_executing": false
    }
   }
  },
  {
   "cell_type": "code",
   "execution_count": 113,
   "outputs": [
    {
     "data": {
      "text/plain": "         resturant  response time\n0       Nova Pizza           12.6\n1       Nova Pizza           12.0\n2       Nova Pizza           11.8\n3       Nova Pizza           11.9\n4       Nova Pizza           13.0\n5       Nova Pizza           12.5\n6       Nova Pizza           14.0\n7   Pomodoro Pizza           10.0\n8   Pomodoro Pizza           10.2\n9   Pomodoro Pizza           10.0\n10  Pomodoro Pizza           12.0\n11  Pomodoro Pizza           14.0\n12  Pomodoro Pizza           13.0\n13  Pomodoro Pizza           12.0\n14        Volturno           10.1\n15        Volturno           13.0\n16        Volturno           13.4\n17        Volturno           12.9\n18        Volturno            8.9\n19        Volturno           10.7\n20        Volturno           13.6",
      "text/html": "<div>\n<style scoped>\n    .dataframe tbody tr th:only-of-type {\n        vertical-align: middle;\n    }\n\n    .dataframe tbody tr th {\n        vertical-align: top;\n    }\n\n    .dataframe thead th {\n        text-align: right;\n    }\n</style>\n<table border=\"1\" class=\"dataframe\">\n  <thead>\n    <tr style=\"text-align: right;\">\n      <th></th>\n      <th>resturant</th>\n      <th>response time</th>\n    </tr>\n  </thead>\n  <tbody>\n    <tr>\n      <th>0</th>\n      <td>Nova Pizza</td>\n      <td>12.6</td>\n    </tr>\n    <tr>\n      <th>1</th>\n      <td>Nova Pizza</td>\n      <td>12.0</td>\n    </tr>\n    <tr>\n      <th>2</th>\n      <td>Nova Pizza</td>\n      <td>11.8</td>\n    </tr>\n    <tr>\n      <th>3</th>\n      <td>Nova Pizza</td>\n      <td>11.9</td>\n    </tr>\n    <tr>\n      <th>4</th>\n      <td>Nova Pizza</td>\n      <td>13.0</td>\n    </tr>\n    <tr>\n      <th>5</th>\n      <td>Nova Pizza</td>\n      <td>12.5</td>\n    </tr>\n    <tr>\n      <th>6</th>\n      <td>Nova Pizza</td>\n      <td>14.0</td>\n    </tr>\n    <tr>\n      <th>7</th>\n      <td>Pomodoro Pizza</td>\n      <td>10.0</td>\n    </tr>\n    <tr>\n      <th>8</th>\n      <td>Pomodoro Pizza</td>\n      <td>10.2</td>\n    </tr>\n    <tr>\n      <th>9</th>\n      <td>Pomodoro Pizza</td>\n      <td>10.0</td>\n    </tr>\n    <tr>\n      <th>10</th>\n      <td>Pomodoro Pizza</td>\n      <td>12.0</td>\n    </tr>\n    <tr>\n      <th>11</th>\n      <td>Pomodoro Pizza</td>\n      <td>14.0</td>\n    </tr>\n    <tr>\n      <th>12</th>\n      <td>Pomodoro Pizza</td>\n      <td>13.0</td>\n    </tr>\n    <tr>\n      <th>13</th>\n      <td>Pomodoro Pizza</td>\n      <td>12.0</td>\n    </tr>\n    <tr>\n      <th>14</th>\n      <td>Volturno</td>\n      <td>10.1</td>\n    </tr>\n    <tr>\n      <th>15</th>\n      <td>Volturno</td>\n      <td>13.0</td>\n    </tr>\n    <tr>\n      <th>16</th>\n      <td>Volturno</td>\n      <td>13.4</td>\n    </tr>\n    <tr>\n      <th>17</th>\n      <td>Volturno</td>\n      <td>12.9</td>\n    </tr>\n    <tr>\n      <th>18</th>\n      <td>Volturno</td>\n      <td>8.9</td>\n    </tr>\n    <tr>\n      <th>19</th>\n      <td>Volturno</td>\n      <td>10.7</td>\n    </tr>\n    <tr>\n      <th>20</th>\n      <td>Volturno</td>\n      <td>13.6</td>\n    </tr>\n  </tbody>\n</table>\n</div>"
     },
     "metadata": {},
     "output_type": "execute_result",
     "execution_count": 113
    }
   ],
   "source": [
    "data = nova_pizza + pomodoro_pizza + volturno\n",
    "groups = ['Nova Pizza']*len(nova_pizza) + ['Pomodoro Pizza'] * \\\n",
    "         len(pomodoro_pizza) + ['Volturno'] * len(volturno)\n",
    "\n",
    "df = pandas.DataFrame(list(zip(groups,data)),columns=['resturant', 'response time'])\n",
    "df                "
   ],
   "metadata": {
    "collapsed": false,
    "pycharm": {
     "name": "#%%\n",
     "is_executing": false
    }
   }
  },
  {
   "cell_type": "code",
   "execution_count": 114,
   "outputs": [
    {
     "traceback": [
      "\u001b[0;31m---------------------------------------------------------------------------\u001b[0m",
      "\u001b[0;31mAttributeError\u001b[0m                            Traceback (most recent call last)",
      "\u001b[0;32m<ipython-input-114-93b8c0581b3f>\u001b[0m in \u001b[0;36m<module>\u001b[0;34m\u001b[0m\n\u001b[0;32m----> 1\u001b[0;31m \u001b[0maov\u001b[0m \u001b[0;34m=\u001b[0m \u001b[0mdf\u001b[0m\u001b[0;34m.\u001b[0m\u001b[0manova\u001b[0m\u001b[0;34m(\u001b[0m\u001b[0mdv\u001b[0m\u001b[0;34m=\u001b[0m\u001b[0;34m'response time'\u001b[0m\u001b[0;34m,\u001b[0m \u001b[0mbetween\u001b[0m\u001b[0;34m=\u001b[0m\u001b[0;34m'resturant'\u001b[0m\u001b[0;34m,\u001b[0m \u001b[0mdetailed\u001b[0m\u001b[0;34m=\u001b[0m\u001b[0;32mTrue\u001b[0m\u001b[0;34m)\u001b[0m\u001b[0;34m\u001b[0m\u001b[0m\n\u001b[0m\u001b[1;32m      2\u001b[0m \u001b[0;31m# aov\u001b[0m\u001b[0;34m\u001b[0m\u001b[0;34m\u001b[0m\u001b[0m\n\u001b[1;32m      3\u001b[0m \u001b[0;34m\u001b[0m\u001b[0m\n",
      "\u001b[0;32m/Library/Frameworks/Python.framework/Versions/3.6/lib/python3.6/site-packages/pandas/core/generic.py\u001b[0m in \u001b[0;36m__getattr__\u001b[0;34m(self, name)\u001b[0m\n\u001b[1;32m   5065\u001b[0m             \u001b[0;32mif\u001b[0m \u001b[0mself\u001b[0m\u001b[0;34m.\u001b[0m\u001b[0m_info_axis\u001b[0m\u001b[0;34m.\u001b[0m\u001b[0m_can_hold_identifiers_and_holds_name\u001b[0m\u001b[0;34m(\u001b[0m\u001b[0mname\u001b[0m\u001b[0;34m)\u001b[0m\u001b[0;34m:\u001b[0m\u001b[0;34m\u001b[0m\u001b[0m\n\u001b[1;32m   5066\u001b[0m                 \u001b[0;32mreturn\u001b[0m \u001b[0mself\u001b[0m\u001b[0;34m[\u001b[0m\u001b[0mname\u001b[0m\u001b[0;34m]\u001b[0m\u001b[0;34m\u001b[0m\u001b[0m\n\u001b[0;32m-> 5067\u001b[0;31m             \u001b[0;32mreturn\u001b[0m \u001b[0mobject\u001b[0m\u001b[0;34m.\u001b[0m\u001b[0m__getattribute__\u001b[0m\u001b[0;34m(\u001b[0m\u001b[0mself\u001b[0m\u001b[0;34m,\u001b[0m \u001b[0mname\u001b[0m\u001b[0;34m)\u001b[0m\u001b[0;34m\u001b[0m\u001b[0m\n\u001b[0m\u001b[1;32m   5068\u001b[0m \u001b[0;34m\u001b[0m\u001b[0m\n\u001b[1;32m   5069\u001b[0m     \u001b[0;32mdef\u001b[0m \u001b[0m__setattr__\u001b[0m\u001b[0;34m(\u001b[0m\u001b[0mself\u001b[0m\u001b[0;34m,\u001b[0m \u001b[0mname\u001b[0m\u001b[0;34m,\u001b[0m \u001b[0mvalue\u001b[0m\u001b[0;34m)\u001b[0m\u001b[0;34m:\u001b[0m\u001b[0;34m\u001b[0m\u001b[0m\n",
      "\u001b[0;31mAttributeError\u001b[0m: 'DataFrame' object has no attribute 'anova'"
     ],
     "ename": "AttributeError",
     "evalue": "'DataFrame' object has no attribute 'anova'",
     "output_type": "error"
    }
   ],
   "source": [
    "aov = df.anova(dv='response time', between='resturant', detailed=True)\n",
    "# aov"
   ],
   "metadata": {
    "collapsed": false,
    "pycharm": {
     "name": "#%%\n",
     "is_executing": false
    }
   }
  },
  {
   "cell_type": "markdown",
   "source": [
    "We can see that some restaurants are faster than others."
   ],
   "metadata": {
    "collapsed": false,
    "pycharm": {
     "name": "#%% md\n"
    }
   }
  }
 ],
 "metadata": {
  "kernelspec": {
   "display_name": "Python 3",
   "language": "python",
   "name": "python3"
  },
  "language_info": {
   "codemirror_mode": {
    "name": "ipython",
    "version": 2
   },
   "file_extension": ".py",
   "mimetype": "text/x-python",
   "name": "python",
   "nbconvert_exporter": "python",
   "pygments_lexer": "ipython2",
   "version": "2.7.6"
  },
  "pycharm": {
   "stem_cell": {
    "cell_type": "raw",
    "source": [],
    "metadata": {
     "collapsed": false
    }
   }
  }
 },
 "nbformat": 4,
 "nbformat_minor": 0
}