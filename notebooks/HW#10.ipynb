{
 "cells": [
  {
   "cell_type": "code",
   "execution_count": 15,
   "metadata": {
    "collapsed": true,
    "pycharm": {
     "is_executing": false
    }
   },
   "outputs": [],
   "source": [
    "import numpy\n",
    "import matplotlib.pyplot as plt\n",
    "import matplotlib\n",
    "matplotlib.rcParams['text.usetex'] = True  # Allows to use latex in labels"
   ]
  },
  {
   "cell_type": "code",
   "execution_count": 16,
   "outputs": [
    {
     "name": "stdout",
     "text": [
      "Question 1)\n",
      "σ^2 = 1\n",
      "n = 100\n",
      "C = .95\n",
      "1 - C = 0.05\n",
      "1 - C/2\n",
      "0.05/2 = 0.025\n",
      "Using the table we get that z^* = (1.96, -1.96)\n",
      "So looking for the sample meas we have: \n",
      "mean = (1.96, -1.96) (square root of(σ^2)) / square root of(n)\n",
      "mean = (1.96, -1.96) (1/10)\n",
      "mean = 1.96/10, -1.96/10\n",
      "mean = 0.196, -0.196\n",
      "Question 2\n",
      "n=30\n"
     ],
     "output_type": "stream"
    },
    {
     "data": {
      "text/plain": "<Figure size 432x288 with 1 Axes>",
      "image/png": "[encoded data removed]"
     },
     "metadata": {
      "needs_background": "light"
     },
     "output_type": "display_data"
    }
   ],
   "source": [
    "print(\"Question 1)\")\n",
    "print(\"σ^2 = 1\")\n",
    "print(\"n = 100\")\n",
    "print(\"C = .95\")\n",
    "print(\"1 - C = 0.05\")\n",
    "print(\"1 - C/2\")\n",
    "print(\"0.05/2 = 0.025\")\n",
    "print(\"Using the table we get that z^* = (1.96, -1.96)\")\n",
    "\n",
    "print(\"So looking for the sample meas we have: \")\n",
    "print(\"mean = (1.96, -1.96) (square root of(σ^2)) / square root of(n)\")\n",
    "print(\"mean = (1.96, -1.96) (1/10)\")\n",
    "print(\"mean = 1.96/10, -1.96/10\")\n",
    "print(\"mean = 0.196, -0.196\")\n",
    "\n",
    "\n",
    "\n",
    "\n",
    "# Question 2\n",
    "print(\"Question 2\")\n",
    "# (a) Simulate 1,000 samples of a binomial random variable\n",
    "# with parameters p = 0.5 \n",
    "# and number of trials n = 30. \n",
    "# Graph the corresponding histogram (use 20 bins) and the QQ-plot.\n",
    "\n",
    "print(\"n=30\")\n",
    "arr_of_sim = numpy.random.binomial(p=0.5, n=30, size=1000)\n",
    "\n",
    "plt.hist(arr_of_sim, bins=20)\n",
    "plt.show()"
   ],
   "metadata": {
    "collapsed": false,
    "pycharm": {
     "name": "#%%\n",
     "is_executing": false
    }
   }
  },
  {
   "cell_type": "code",
   "execution_count": 17,
   "outputs": [
    {
     "name": "stdout",
     "text": [
      "n=50\n"
     ],
     "output_type": "stream"
    },
    {
     "data": {
      "text/plain": "<Figure size 432x288 with 1 Axes>",
      "image/png": "[encoded data removed]"
     },
     "metadata": {
      "needs_background": "light"
     },
     "output_type": "display_data"
    }
   ],
   "source": [
    "# (b) Repeat part (a) with number of trials \n",
    "# n = 50,100,200,300. \n",
    "# Produce the corresponding histograms (use 20 bins) and QQ-plots.\n",
    "# How are the QQ-plots changing as n gets larger? \n",
    "# What can you conjecture from this observation?\n",
    "print(\"n=50\")\n",
    "arr_of_sim = numpy.random.binomial(p=0.5, n=50, size=1000)\n",
    "\n",
    "plt.hist(arr_of_sim, bins=20)\n",
    "plt.show()"
   ],
   "metadata": {
    "collapsed": false,
    "pycharm": {
     "name": "#%%\n",
     "is_executing": false
    }
   }
  },
  {
   "cell_type": "code",
   "execution_count": 18,
   "outputs": [
    {
     "name": "stdout",
     "text": [
      "n=100\n"
     ],
     "output_type": "stream"
    },
    {
     "data": {
      "text/plain": "<Figure size 432x288 with 1 Axes>",
      "image/png": "[encoded data removed]"
     },
     "metadata": {
      "needs_background": "light"
     },
     "output_type": "display_data"
    }
   ],
   "source": [
    "print(\"n=100\")\n",
    "arr_of_sim = numpy.random.binomial(p=0.5, n=100, size=1000)\n",
    "\n",
    "plt.hist(arr_of_sim, bins=20)\n",
    "plt.show()"
   ],
   "metadata": {
    "collapsed": false,
    "pycharm": {
     "name": "#%%\n",
     "is_executing": false
    }
   }
  },
  {
   "cell_type": "code",
   "execution_count": 19,
   "outputs": [
    {
     "name": "stdout",
     "text": [
      "n=200\n"
     ],
     "output_type": "stream"
    },
    {
     "data": {
      "text/plain": "<Figure size 432x288 with 1 Axes>",
      "image/png": "[encoded data removed]"
     },
     "metadata": {
      "needs_background": "light"
     },
     "output_type": "display_data"
    }
   ],
   "source": [
    "print(\"n=200\")\n",
    "arr_of_sim = numpy.random.binomial(p=0.5, n=200, size=1000)\n",
    "\n",
    "plt.hist(arr_of_sim, bins=20)\n",
    "plt.show()"
   ],
   "metadata": {
    "collapsed": false,
    "pycharm": {
     "name": "#%%\n",
     "is_executing": false
    }
   }
  },
  {
   "cell_type": "code",
   "execution_count": 20,
   "outputs": [
    {
     "name": "stdout",
     "text": [
      "n=300\n"
     ],
     "output_type": "stream"
    },
    {
     "data": {
      "text/plain": "<Figure size 432x288 with 1 Axes>",
      "image/png": "[encoded data removed]"
     },
     "metadata": {
      "needs_background": "light"
     },
     "output_type": "display_data"
    }
   ],
   "source": [
    "print(\"n=300\")\n",
    "arr_of_sim = numpy.random.binomial(p=0.5, n=300, size=1000)\n",
    "\n",
    "plt.hist(arr_of_sim, bins=20)\n",
    "plt.show()"
   ],
   "metadata": {
    "collapsed": false,
    "pycharm": {
     "name": "#%%\n",
     "is_executing": false
    }
   }
  },
  {
   "cell_type": "code",
   "execution_count": 21,
   "outputs": [
    {
     "name": "stdout",
     "text": [
      "n=500\n"
     ],
     "output_type": "stream"
    },
    {
     "data": {
      "text/plain": "<Figure size 432x288 with 1 Axes>",
      "image/png": "[encoded data removed]"
     },
     "metadata": {
      "needs_background": "light"
     },
     "output_type": "display_data"
    }
   ],
   "source": [
    "\n",
    "print(\"n=500\")\n",
    "arr_of_sim = numpy.random.binomial(p=0.5, n=500, size=1000)\n",
    "\n",
    "plt.hist(arr_of_sim, bins=20)\n",
    "plt.show()\n",
    "\n",
    "\n",
    "# How are the QQ-plots changing as n gets larger? \n",
    "# What can you conjecture from this observation?\n",
    "# As the n gets larger the graph looks more and more \n",
    "# like the normal distribution curve."
   ],
   "metadata": {
    "collapsed": false,
    "pycharm": {
     "name": "#%%\n",
     "is_executing": false
    }
   }
  },
  {
   "cell_type": "code",
   "execution_count": 21,
   "outputs": [],
   "source": [
    "\n"
   ],
   "metadata": {
    "collapsed": false,
    "pycharm": {
     "name": "#%%\n",
     "is_executing": false
    }
   }
  }
 ],
 "metadata": {
  "kernelspec": {
   "display_name": "Python 3",
   "language": "python",
   "name": "python3"
  },
  "language_info": {
   "codemirror_mode": {
    "name": "ipython",
    "version": 2
   },
   "file_extension": ".py",
   "mimetype": "text/x-python",
   "name": "python",
   "nbconvert_exporter": "python",
   "pygments_lexer": "ipython2",
   "version": "2.7.6"
  },
  "pycharm": {
   "stem_cell": {
    "cell_type": "raw",
    "source": [],
    "metadata": {
     "collapsed": false
    }
   }
  }
 },
 "nbformat": 4,
 "nbformat_minor": 0
}